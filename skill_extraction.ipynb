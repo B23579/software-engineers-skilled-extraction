{
 "cells": [
  {
   "cell_type": "markdown",
   "id": "e44cd977",
   "metadata": {},
   "source": [
    "# Step by step to solve the problem"
   ]
  },
  {
   "cell_type": "code",
   "execution_count": null,
   "id": "0142c2ef",
   "metadata": {},
   "outputs": [],
   "source": []
  },
  {
   "cell_type": "code",
   "execution_count": null,
   "id": "b203ba86",
   "metadata": {},
   "outputs": [],
   "source": []
  },
  {
   "cell_type": "code",
   "execution_count": null,
   "id": "3f21192f",
   "metadata": {},
   "outputs": [],
   "source": []
  },
  {
   "cell_type": "code",
   "execution_count": null,
   "id": "a5f5f766",
   "metadata": {},
   "outputs": [],
   "source": []
  },
  {
   "cell_type": "code",
   "execution_count": null,
   "id": "da220055",
   "metadata": {},
   "outputs": [],
   "source": []
  },
  {
   "cell_type": "code",
   "execution_count": null,
   "id": "d2171708",
   "metadata": {},
   "outputs": [],
   "source": [
    "import spacy\n",
    "from spacy.training.example import Example\n",
    "# Load Pkgs\n",
    "import pandas as pd\n",
    "import numpy as np\n",
    "import numpy as np\n",
    "from spacy.matcher import PhraseMatcher \n",
    "import matplotlib.pyplot as plt"
   ]
  },
  {
   "cell_type": "code",
   "execution_count": 168,
   "id": "32844515",
   "metadata": {},
   "outputs": [],
   "source": [
    "nlp = spacy.load('en_core_web_sm')"
   ]
  },
  {
   "cell_type": "code",
   "execution_count": 169,
   "id": "a8948609",
   "metadata": {},
   "outputs": [],
   "source": [
    "def offseter(lbl, doc, matchitem):\n",
    "    o_one = len(str(doc[0:matchitem[1]]))\n",
    "    subdoc = doc[matchitem[1]:matchitem[2]]\n",
    "    o_two = o_one + len(str(subdoc))\n",
    "    return (o_one, o_two,lbl)"
   ]
  },
  {
   "cell_type": "code",
   "execution_count": 170,
   "id": "022628f0",
   "metadata": {},
   "outputs": [],
   "source": [
    "df = pd.read_csv(\"Raw_Skills_Dataset.csv\")\n",
    "lab = pd.read_csv(\"Example_Technical_Skills.csv\")"
   ]
  },
  {
   "cell_type": "code",
   "execution_count": 185,
   "id": "55d59e23",
   "metadata": {},
   "outputs": [
    {
     "data": {
      "text/html": [
       "<div>\n",
       "<style scoped>\n",
       "    .dataframe tbody tr th:only-of-type {\n",
       "        vertical-align: middle;\n",
       "    }\n",
       "\n",
       "    .dataframe tbody tr th {\n",
       "        vertical-align: top;\n",
       "    }\n",
       "\n",
       "    .dataframe thead th {\n",
       "        text-align: right;\n",
       "    }\n",
       "</style>\n",
       "<table border=\"1\" class=\"dataframe\">\n",
       "  <thead>\n",
       "    <tr style=\"text-align: right;\">\n",
       "      <th></th>\n",
       "      <th>RAW DATA</th>\n",
       "    </tr>\n",
       "  </thead>\n",
       "  <tbody>\n",
       "    <tr>\n",
       "      <th>0</th>\n",
       "      <td>what ifs</td>\n",
       "    </tr>\n",
       "    <tr>\n",
       "      <th>1</th>\n",
       "      <td>seniority</td>\n",
       "    </tr>\n",
       "    <tr>\n",
       "      <th>2</th>\n",
       "      <td>familiarity</td>\n",
       "    </tr>\n",
       "    <tr>\n",
       "      <th>3</th>\n",
       "      <td>functionalities</td>\n",
       "    </tr>\n",
       "    <tr>\n",
       "      <th>4</th>\n",
       "      <td>lambdas</td>\n",
       "    </tr>\n",
       "  </tbody>\n",
       "</table>\n",
       "</div>"
      ],
      "text/plain": [
       "          RAW DATA\n",
       "0         what ifs\n",
       "1        seniority\n",
       "2      familiarity\n",
       "3  functionalities\n",
       "4          lambdas"
      ]
     },
     "execution_count": 185,
     "metadata": {},
     "output_type": "execute_result"
    }
   ],
   "source": [
    "df.head()"
   ]
  },
  {
   "cell_type": "code",
   "execution_count": 173,
   "id": "e5009740",
   "metadata": {},
   "outputs": [],
   "source": [
    "replacer = {'\\n':'',\"[\\[].*?[\\]]\": \"\",'[!\"#%\\'()*+,-./:$&;<=>?@\\[\\]^_`{|}~’\"\"′‘\\\\\\]':\"\", ' +': ' '}\n",
    "lab['Technology Skills'] = lab['Technology Skills'].replace(replacer, regex=True)\n",
    "\n",
    "replacer = {'\\n':'',\"[\\[].*?[\\]]\": \"\",'[!\"#%\\'()*+,-./:$&;<=>?@\\[\\]^_`{|}~’\"\"′‘\\\\\\]':\"\", ' +': ' '}\n",
    "df['RAW DATA'] = df['RAW DATA'].replace(replacer, regex=True)\n"
   ]
  },
  {
   "cell_type": "code",
   "execution_count": 174,
   "id": "63400d2f",
   "metadata": {},
   "outputs": [],
   "source": [
    "for i in range(len(lab)):\n",
    "    lab['Technology Skills'][i]=lab['Technology Skills'][i].lower()\n",
    "    \n",
    "for i in range(len(lab)):\n",
    "    df['RAW DATA'][i]=df['RAW DATA'][i].lower()"
   ]
  },
  {
   "cell_type": "code",
   "execution_count": 184,
   "id": "0200eb60",
   "metadata": {},
   "outputs": [
    {
     "data": {
      "text/html": [
       "<div>\n",
       "<style scoped>\n",
       "    .dataframe tbody tr th:only-of-type {\n",
       "        vertical-align: middle;\n",
       "    }\n",
       "\n",
       "    .dataframe tbody tr th {\n",
       "        vertical-align: top;\n",
       "    }\n",
       "\n",
       "    .dataframe thead th {\n",
       "        text-align: right;\n",
       "    }\n",
       "</style>\n",
       "<table border=\"1\" class=\"dataframe\">\n",
       "  <thead>\n",
       "    <tr style=\"text-align: right;\">\n",
       "      <th></th>\n",
       "      <th>Technology Skills</th>\n",
       "    </tr>\n",
       "  </thead>\n",
       "  <tbody>\n",
       "    <tr>\n",
       "      <th>0</th>\n",
       "      <td>sap fiori developer</td>\n",
       "    </tr>\n",
       "    <tr>\n",
       "      <th>1</th>\n",
       "      <td>oracle instance management strategy</td>\n",
       "    </tr>\n",
       "    <tr>\n",
       "      <th>2</th>\n",
       "      <td>boomi master data management</td>\n",
       "    </tr>\n",
       "    <tr>\n",
       "      <th>3</th>\n",
       "      <td>digital manufacturing on cloud dmc</td>\n",
       "    </tr>\n",
       "    <tr>\n",
       "      <th>4</th>\n",
       "      <td>devops</td>\n",
       "    </tr>\n",
       "  </tbody>\n",
       "</table>\n",
       "</div>"
      ],
      "text/plain": [
       "                     Technology Skills\n",
       "0                  sap fiori developer\n",
       "1  oracle instance management strategy\n",
       "2         boomi master data management\n",
       "3   digital manufacturing on cloud dmc\n",
       "4                               devops"
      ]
     },
     "execution_count": 184,
     "metadata": {},
     "output_type": "execute_result"
    }
   ],
   "source": [
    "lab.head()"
   ]
  },
  {
   "cell_type": "code",
   "execution_count": 187,
   "id": "6a8e42a2",
   "metadata": {},
   "outputs": [
    {
     "data": {
      "text/html": [
       "<div>\n",
       "<style scoped>\n",
       "    .dataframe tbody tr th:only-of-type {\n",
       "        vertical-align: middle;\n",
       "    }\n",
       "\n",
       "    .dataframe tbody tr th {\n",
       "        vertical-align: top;\n",
       "    }\n",
       "\n",
       "    .dataframe thead th {\n",
       "        text-align: right;\n",
       "    }\n",
       "</style>\n",
       "<table border=\"1\" class=\"dataframe\">\n",
       "  <thead>\n",
       "    <tr style=\"text-align: right;\">\n",
       "      <th></th>\n",
       "      <th>RAW DATA</th>\n",
       "    </tr>\n",
       "  </thead>\n",
       "  <tbody>\n",
       "    <tr>\n",
       "      <th>0</th>\n",
       "      <td>what ifs</td>\n",
       "    </tr>\n",
       "    <tr>\n",
       "      <th>1</th>\n",
       "      <td>seniority</td>\n",
       "    </tr>\n",
       "    <tr>\n",
       "      <th>2</th>\n",
       "      <td>familiarity</td>\n",
       "    </tr>\n",
       "    <tr>\n",
       "      <th>3</th>\n",
       "      <td>functionalities</td>\n",
       "    </tr>\n",
       "    <tr>\n",
       "      <th>4</th>\n",
       "      <td>lambdas</td>\n",
       "    </tr>\n",
       "    <tr>\n",
       "      <th>...</th>\n",
       "      <td>...</td>\n",
       "    </tr>\n",
       "    <tr>\n",
       "      <th>34111</th>\n",
       "      <td>negotiation</td>\n",
       "    </tr>\n",
       "    <tr>\n",
       "      <th>34112</th>\n",
       "      <td>deadlines</td>\n",
       "    </tr>\n",
       "    <tr>\n",
       "      <th>34113</th>\n",
       "      <td>Selfmotivated enthusiastic and strong drive</td>\n",
       "    </tr>\n",
       "    <tr>\n",
       "      <th>34114</th>\n",
       "      <td>negotiation</td>\n",
       "    </tr>\n",
       "    <tr>\n",
       "      <th>34115</th>\n",
       "      <td>deadlines</td>\n",
       "    </tr>\n",
       "  </tbody>\n",
       "</table>\n",
       "<p>34116 rows × 1 columns</p>\n",
       "</div>"
      ],
      "text/plain": [
       "                                          RAW DATA\n",
       "0                                         what ifs\n",
       "1                                        seniority\n",
       "2                                      familiarity\n",
       "3                                  functionalities\n",
       "4                                          lambdas\n",
       "...                                            ...\n",
       "34111                                  negotiation\n",
       "34112                                    deadlines\n",
       "34113  Selfmotivated enthusiastic and strong drive\n",
       "34114                                  negotiation\n",
       "34115                                    deadlines\n",
       "\n",
       "[34116 rows x 1 columns]"
      ]
     },
     "execution_count": 187,
     "metadata": {},
     "output_type": "execute_result"
    }
   ],
   "source": [
    "df"
   ]
  },
  {
   "cell_type": "markdown",
   "id": "2bc2dd56",
   "metadata": {},
   "source": [
    "# Setup the phrase matches"
   ]
  },
  {
   "cell_type": "code",
   "execution_count": 177,
   "id": "29e5aa0b",
   "metadata": {},
   "outputs": [],
   "source": [
    "label = \"Skill\"\n",
    "matcher = PhraseMatcher(nlp.vocab)\n",
    "for i in lab['Technology Skills']:\n",
    "    matcher.add(label,None,nlp(i))"
   ]
  },
  {
   "cell_type": "markdown",
   "id": "845eb9ec",
   "metadata": {},
   "source": [
    "# Extract Technical Hard skills from a list of technical skills"
   ]
  },
  {
   "cell_type": "code",
   "execution_count": 180,
   "id": "c34f63c0",
   "metadata": {},
   "outputs": [],
   "source": [
    "res = []\n",
    "to_train_ents = []\n",
    "\n",
    "for line in df['RAW DATA']:\n",
    "    mnlp_line = nlp(line)\n",
    "    matches = matcher(mnlp_line)\n",
    "    res = [offseter(label,mnlp_line,x) for x in matches]\n",
    "    if res!=[]:\n",
    "        to_train_ents.append((line,dict(entities = res)))"
   ]
  },
  {
   "cell_type": "code",
   "execution_count": 181,
   "id": "721fa90f",
   "metadata": {},
   "outputs": [],
   "source": [
    "skill = []\n",
    "for i in range(len(to_train_ents)):\n",
    "    start = to_train_ents[i][1]['entities'][0][0]\n",
    "    end = to_train_ents[i][1]['entities'][0][1]+1\n",
    "    skill.append(to_train_ents[i][0][start:end].strip())"
   ]
  },
  {
   "cell_type": "markdown",
   "id": "87021769",
   "metadata": {},
   "source": [
    "# Unique technical skill contain in the raw data"
   ]
  },
  {
   "cell_type": "code",
   "execution_count": 182,
   "id": "c1d0e103",
   "metadata": {
    "scrolled": true
   },
   "outputs": [
    {
     "name": "stdout",
     "output_type": "stream",
     "text": [
      "['big data', 'calculations', 'forcecom', 'embedded systems', 'infrastructure deployment', 'power platform', 'scss', 'openshift', 'mysql', 'application integration', 'bitbucket', 'eac', 'github', 'bash', 'eclipse', 'architect', 'devops', 'gulp', 'compliance', 'recruiting']\n"
     ]
    }
   ],
   "source": [
    "skill = set(skill )\n",
    "skill =list(skill)\n",
    "print(skill)"
   ]
  },
  {
   "cell_type": "markdown",
   "id": "a4f85b62",
   "metadata": {},
   "source": [
    "# Line that contain technical skill "
   ]
  },
  {
   "cell_type": "code",
   "execution_count": 195,
   "id": "22bd2436",
   "metadata": {},
   "outputs": [],
   "source": [
    "line = [to_train_ents[i][0] for i in range(len(to_train_ents))]"
   ]
  },
  {
   "cell_type": "code",
   "execution_count": 197,
   "id": "1323d069",
   "metadata": {},
   "outputs": [
    {
     "data": {
      "text/plain": [
       "['mysql',\n",
       " 'github',\n",
       " 'github',\n",
       " 'devops engineers',\n",
       " 'scss',\n",
       " 'mysql',\n",
       " 'eac',\n",
       " 'big data pipelines',\n",
       " 'big data pipelines',\n",
       " 'a devops model',\n",
       " 'devops',\n",
       " 'devops',\n",
       " 'devops',\n",
       " 'devops',\n",
       " 'openshift',\n",
       " 'bitbucket',\n",
       " 'eclipse sts',\n",
       " 'linux bash scripting',\n",
       " 'devops',\n",
       " 'Build and architect systems',\n",
       " 'gulp',\n",
       " 'bash',\n",
       " 'bash',\n",
       " 'bash',\n",
       " 'bash',\n",
       " 'bash',\n",
       " 'bash',\n",
       " 'bash',\n",
       " 'bash',\n",
       " 'bash',\n",
       " 'bash',\n",
       " 'bash',\n",
       " 'bash',\n",
       " 'bash',\n",
       " 'bash',\n",
       " 'bash',\n",
       " 'bash',\n",
       " 'bash',\n",
       " 'bash',\n",
       " 'bash',\n",
       " 'bash',\n",
       " 'bash',\n",
       " 'bash',\n",
       " 'bash',\n",
       " 'bash',\n",
       " 'bash',\n",
       " 'bash',\n",
       " 'bash',\n",
       " 'bash',\n",
       " 'bash',\n",
       " 'bash',\n",
       " 'devops tools',\n",
       " 'devops tools',\n",
       " 'devops tools',\n",
       " 'devops tools',\n",
       " 'devops tools',\n",
       " 'devops tools',\n",
       " 'devops tools',\n",
       " 'devops tools',\n",
       " 'devops tools',\n",
       " 'devops tools',\n",
       " 'devops tools',\n",
       " 'embedded systems',\n",
       " 'regulatory compliance',\n",
       " 'technical regulatory and compliance environments',\n",
       " 'embedded systems',\n",
       " '100 compliance',\n",
       " 'our devops',\n",
       " 'bash',\n",
       " 'CCPA compliance management',\n",
       " 'an elastic big data analytics platform',\n",
       " 'the forcecom platform',\n",
       " 'the forcecom platform',\n",
       " 'application integration patterns',\n",
       " 'internal data compliance processes',\n",
       " 'internal data compliance processes',\n",
       " 'a Linux andor embedded systems environment',\n",
       " 'a Linux andor embedded systems environment',\n",
       " 'recruiting',\n",
       " 'big data pipelines',\n",
       " 'a fulltime enterprise architect',\n",
       " 'recruiting',\n",
       " 'recruiting',\n",
       " 'recruiting',\n",
       " 'WCAG AA compliance',\n",
       " 'compliance assessments',\n",
       " 'compliance procedures',\n",
       " 'embedded systems',\n",
       " 'SDLC compliance',\n",
       " 'bitbucket',\n",
       " 'bash',\n",
       " 'project compliance security testing',\n",
       " 'recruiting software',\n",
       " 'automated infrastructure deployment',\n",
       " 'devops',\n",
       " '· Design and architect solutions',\n",
       " 'devops',\n",
       " 'big data system architectures',\n",
       " 'devops tool stack',\n",
       " 'regulatory compliance',\n",
       " 'bash',\n",
       " 'Scope and design power platform driven solutions',\n",
       " 'java eclipse',\n",
       " 'gulp',\n",
       " 'a software architect',\n",
       " ' Ensure and Review application compliance',\n",
       " 'a technical architect',\n",
       " 'technical architect',\n",
       " 'technical architect',\n",
       " 'technical architect',\n",
       " 'a technical architect',\n",
       " 'technical architect',\n",
       " 'technical architect',\n",
       " 'a technical architect',\n",
       " 'a technical architect',\n",
       " 'technical architect',\n",
       " 'technical architect',\n",
       " 'technical architect',\n",
       " 'embedded systems',\n",
       " 'embedded systems',\n",
       " 'embedded systems',\n",
       " 'devops deliverysupport models',\n",
       " 'a blockchain architect',\n",
       " 'compliance and regulatory requirements',\n",
       " 'big data architectures',\n",
       " 'scss Javascript fundamentals',\n",
       " 'compliance awareness',\n",
       " 'scss',\n",
       " 'cloud infrastructure compliance',\n",
       " 'hardware compliance',\n",
       " 'general mathematical calculations']"
      ]
     },
     "execution_count": 197,
     "metadata": {},
     "output_type": "execute_result"
    }
   ],
   "source": [
    "line"
   ]
  },
  {
   "cell_type": "code",
   "execution_count": null,
   "id": "b9211b14",
   "metadata": {},
   "outputs": [],
   "source": []
  }
 ],
 "metadata": {
  "kernelspec": {
   "display_name": "Python 3",
   "language": "python",
   "name": "python3"
  },
  "language_info": {
   "codemirror_mode": {
    "name": "ipython",
    "version": 3
   },
   "file_extension": ".py",
   "mimetype": "text/x-python",
   "name": "python",
   "nbconvert_exporter": "python",
   "pygments_lexer": "ipython3",
   "version": "3.8.8"
  }
 },
 "nbformat": 4,
 "nbformat_minor": 5
}
